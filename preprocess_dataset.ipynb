{
 "cells": [
  {
   "cell_type": "markdown",
   "id": "eight-suspension",
   "metadata": {},
   "source": [
    "# Final Project for Cogs 118B\n",
    "Group Members:\n",
    "- Samruddhi Hande ([email](shande@ucsd.edu))\n",
    "- Ron Hasson ([email](rhasson@ucsd.edu))\n",
    "- Andrew Hernandez ([email](ash053@ucsd.edu))\n",
    "- Mehail Mathew Sunny ([email](msmathew@ucsd.edu))\n",
    "- Justin Yang ([email](justin-yang@ucsd.edu))"
   ]
  },
  {
   "cell_type": "markdown",
   "id": "minute-former",
   "metadata": {},
   "source": [
    "## Preprocess data"
   ]
  },
  {
   "cell_type": "code",
   "execution_count": null,
   "id": "flush-argentina",
   "metadata": {},
   "outputs": [],
   "source": [
    "import os\n",
    "import numpy as np\n",
    "import pandas as pd\n",
    "import matplotlib.pyplot as plt\n",
    "from PIL import Image"
   ]
  },
  {
   "cell_type": "code",
   "execution_count": null,
   "id": "practical-dodge",
   "metadata": {},
   "outputs": [],
   "source": [
    "# read in datasets\n",
    "pd.read_csv('data/...')"
   ]
  }
 ],
 "metadata": {
  "kernelspec": {
   "display_name": "Python 3",
   "language": "python",
   "name": "python3"
  },
  "language_info": {
   "codemirror_mode": {
    "name": "ipython",
    "version": 3
   },
   "file_extension": ".py",
   "mimetype": "text/x-python",
   "name": "python",
   "nbconvert_exporter": "python",
   "pygments_lexer": "ipython3",
   "version": "3.7.7"
  }
 },
 "nbformat": 4,
 "nbformat_minor": 5
}
