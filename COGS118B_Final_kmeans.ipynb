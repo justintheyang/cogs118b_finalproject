{
  "nbformat": 4,
  "nbformat_minor": 0,
  "metadata": {
    "colab": {
      "name": "COGS118B_Final_kmeans.ipynb",
      "provenance": [],
      "collapsed_sections": [],
      "machine_shape": "hm"
    },
    "kernelspec": {
      "display_name": "Python 3",
      "name": "python3"
    },
    "language_info": {
      "name": "python"
    }
  },
  "cells": [
    {
      "cell_type": "code",
      "metadata": {
        "id": "o9Ohx6Cp59Gl"
      },
      "source": [
        "import numpy as np\n",
        "import matplotlib\n",
        "from matplotlib import pyplot as plt\n",
        "import pandas as pd\n",
        "import os\n",
        "%matplotlib inline"
      ],
      "execution_count": null,
      "outputs": []
    },
    {
      "cell_type": "code",
      "metadata": {
        "colab": {
          "base_uri": "https://localhost:8080/"
        },
        "id": "BHRPcOel9XC_",
        "outputId": "0ad1c9e5-1de8-4a09-dd45-187b4f2e7fda"
      },
      "source": [
        "#Path to Files\n",
        "from google.colab import drive\n",
        "import os\n",
        "drive.mount('/content/gdrive')\n",
        "\n",
        "#authentication key will ask you to log in, this ensures the user has to sign in, \n",
        "# folder access only allowed to ucsd users. "
      ],
      "execution_count": null,
      "outputs": [
        {
          "output_type": "stream",
          "text": [
            "Mounted at /content/gdrive\n"
          ],
          "name": "stdout"
        }
      ]
    },
    {
      "cell_type": "code",
      "metadata": {
        "colab": {
          "base_uri": "https://localhost:8080/"
        },
        "id": "lqeSGDLD-XjA",
        "outputId": "1c3d328a-5162-4ff8-9b90-3fbe05790293"
      },
      "source": [
        "# check path\n",
        "!ls gdrive/Shareddrives/Cogs118BFinalProject/"
      ],
      "execution_count": null,
      "outputs": [
        {
          "output_type": "stream",
          "text": [
            "sketches_fc6_nopca.npy\tsketches_metadata.csv\t  sketches_raw_nopca.npy\n",
            "sketches_fc6_pca.npy\tsketches_metadata.gsheet  sketches_raw_pca.npy\n"
          ],
          "name": "stdout"
        }
      ]
    },
    {
      "cell_type": "code",
      "metadata": {
        "colab": {
          "base_uri": "https://localhost:8080/"
        },
        "id": "qMZay49uY4VF",
        "outputId": "c9e8e70f-8287-4378-b8b7-e0b7c108a56c"
      },
      "source": [
        "# show a list of the filenames in our shared drive\n",
        "path_to_directory = 'gdrive/Shareddrives/Cogs118BFinalProject/'\n",
        "files = os.listdir(path_to_directory)\n",
        "files"
      ],
      "execution_count": null,
      "outputs": [
        {
          "output_type": "execute_result",
          "data": {
            "text/plain": [
              "['sketches_raw_pca.npy',\n",
              " 'sketches_raw_nopca.npy',\n",
              " 'sketches_metadata.csv',\n",
              " 'sketches_fc6_pca.npy',\n",
              " 'sketches_fc6_nopca.npy',\n",
              " 'sketches_metadata.gsheet']"
            ]
          },
          "metadata": {
            "tags": []
          },
          "execution_count": 4
        }
      ]
    },
    {
      "cell_type": "code",
      "metadata": {
        "colab": {
          "base_uri": "https://localhost:8080/"
        },
        "id": "4iyQNxuwFZyl",
        "outputId": "6a042a06-1519-4fea-d770-f585a9f5fcd1"
      },
      "source": [
        "path = os.path.join(path_to_directory, files[1])\n",
        "raw_nopca = np.load(path)\n",
        "print(\"type: \", type(raw_nopca))\n",
        "print(\"shape: \", np.shape(raw_nopca))"
      ],
      "execution_count": null,
      "outputs": [
        {
          "output_type": "stream",
          "text": [
            "type:  <class 'numpy.ndarray'>\n",
            "shape:  (12288, 50176)\n"
          ],
          "name": "stdout"
        }
      ]
    },
    {
      "cell_type": "code",
      "metadata": {
        "colab": {
          "base_uri": "https://localhost:8080/",
          "height": 321
        },
        "id": "NKg7iUfn3yBt",
        "outputId": "7abe59cf-97f3-4832-b60e-c21e45252069"
      },
      "source": [
        "#plot something from nopca\n",
        "sample = raw_nopca[93, :]\n",
        "print(np.shape(sample))\n",
        "sample = sample.reshape((224,  224))\n",
        "print(np.shape(sample))\n",
        "plt.imshow(sample)"
      ],
      "execution_count": null,
      "outputs": [
        {
          "output_type": "stream",
          "text": [
            "(50176,)\n",
            "(224, 224)\n"
          ],
          "name": "stdout"
        },
        {
          "output_type": "execute_result",
          "data": {
            "text/plain": [
              "<matplotlib.image.AxesImage at 0x7fd1660beed0>"
            ]
          },
          "metadata": {
            "tags": []
          },
          "execution_count": 6
        },
        {
          "output_type": "display_data",
          "data": {
            "image/png": "[encoded data removed]",
            "text/plain": [
              "<Figure size 432x288 with 1 Axes>"
            ]
          },
          "metadata": {
            "tags": [],
            "needs_background": "light"
          }
        }
      ]
    },
    {
      "cell_type": "code",
      "metadata": {
        "id": "WH89z8FruktP",
        "colab": {
          "base_uri": "https://localhost:8080/",
          "height": 335
        },
        "outputId": "001bc680-6fbe-4664-fbfd-bcf53f6bb6d9"
      },
      "source": [
        "#plot an example from pca \n",
        "path = os.path.join(path_to_directory, files[0])\n",
        "raw_pca = np.load(path)\n",
        "print(\"type: \", type(raw_pca))\n",
        "print(\"shape: \", np.shape(raw_pca))\n",
        "sample = raw_pca[0, :]\n",
        "sample = sample.reshape((10,  10))\n",
        "print(np.shape(sample))\n",
        "plt.imshow(sample)"
      ],
      "execution_count": null,
      "outputs": [
        {
          "output_type": "stream",
          "text": [
            "type:  <class 'numpy.ndarray'>\n",
            "shape:  (12288, 100)\n",
            "(10, 10)\n"
          ],
          "name": "stdout"
        },
        {
          "output_type": "execute_result",
          "data": {
            "text/plain": [
              "<matplotlib.image.AxesImage at 0x7fd165551ed0>"
            ]
          },
          "metadata": {
            "tags": []
          },
          "execution_count": 7
        },
        {
          "output_type": "display_data",
          "data": {
            "image/png": "[encoded data removed]",
            "text/plain": [
              "<Figure size 432x288 with 1 Axes>"
            ]
          },
          "metadata": {
            "tags": [],
            "needs_background": "light"
          }
        }
      ]
    },
    {
      "cell_type": "code",
      "metadata": {
        "id": "DYZ1AMznw6Op",
        "colab": {
          "base_uri": "https://localhost:8080/",
          "height": 337
        },
        "outputId": "de40035d-09aa-45d1-840b-31ebb76d4ddd"
      },
      "source": [
        "#plot an example from the fc6_nopca \n",
        "path = os.path.join(path_to_directory, files[4])\n",
        "fc6_nopca = np.load(path)\n",
        "print(\"type: \", type(fc6_nopca))\n",
        "print(\"shape: \", np.shape(fc6_nopca))\n",
        "sample = fc6_nopca[0, :]\n",
        "sample = sample.reshape((64,  64))\n",
        "print(np.shape(sample))\n",
        "plt.imshow(sample)"
      ],
      "execution_count": null,
      "outputs": [
        {
          "output_type": "stream",
          "text": [
            "type:  <class 'numpy.ndarray'>\n",
            "shape:  (12288, 4096)\n",
            "(64, 64)\n"
          ],
          "name": "stdout"
        },
        {
          "output_type": "execute_result",
          "data": {
            "text/plain": [
              "<matplotlib.image.AxesImage at 0x7fd1654c29d0>"
            ]
          },
          "metadata": {
            "tags": []
          },
          "execution_count": 8
        },
        {
          "output_type": "display_data",
          "data": {
            "image/png": "[encoded data removed]",
            "text/plain": [
              "<Figure size 432x288 with 1 Axes>"
            ]
          },
          "metadata": {
            "tags": [],
            "needs_background": "light"
          }
        }
      ]
    },
    {
      "cell_type": "code",
      "metadata": {
        "id": "AJZvyxOSyrHr",
        "colab": {
          "base_uri": "https://localhost:8080/",
          "height": 335
        },
        "outputId": "44be0d84-7ed2-4bb7-9053-4aaba7387291"
      },
      "source": [
        "#plot an example from the fc6_nopca \n",
        "path = os.path.join(path_to_directory, files[3])\n",
        "fc6_pca = np.load(path)\n",
        "print(\"type: \", type(fc6_pca))\n",
        "print(\"shape: \", np.shape(fc6_pca))\n",
        "sample = fc6_pca[0, :]\n",
        "sample = sample.reshape((10,  10))\n",
        "print(np.shape(sample))\n",
        "plt.imshow(sample)"
      ],
      "execution_count": null,
      "outputs": [
        {
          "output_type": "stream",
          "text": [
            "type:  <class 'numpy.ndarray'>\n",
            "shape:  (12288, 100)\n",
            "(10, 10)\n"
          ],
          "name": "stdout"
        },
        {
          "output_type": "execute_result",
          "data": {
            "text/plain": [
              "<matplotlib.image.AxesImage at 0x7fd16542ef90>"
            ]
          },
          "metadata": {
            "tags": []
          },
          "execution_count": 9
        },
        {
          "output_type": "display_data",
          "data": {
            "image/png": "[encoded data removed]",
            "text/plain": [
              "<Figure size 432x288 with 1 Axes>"
            ]
          },
          "metadata": {
            "tags": [],
            "needs_background": "light"
          }
        }
      ]
    },
    {
      "cell_type": "code",
      "metadata": {
        "id": "QaLB694hXQbL",
        "colab": {
          "base_uri": "https://localhost:8080/",
          "height": 423
        },
        "outputId": "e23d83df-6d65-4d0e-9342-83d0f4d04989"
      },
      "source": [
        "metaData = pd.read_csv(os.path.join(path_to_directory, files[2]))\n",
        "metaData"
      ],
      "execution_count": null,
      "outputs": [
        {
          "output_type": "execute_result",
          "data": {
            "text/html": [
              "<div>\n",
              "<style scoped>\n",
              "    .dataframe tbody tr th:only-of-type {\n",
              "        vertical-align: middle;\n",
              "    }\n",
              "\n",
              "    .dataframe tbody tr th {\n",
              "        vertical-align: top;\n",
              "    }\n",
              "\n",
              "    .dataframe thead th {\n",
              "        text-align: right;\n",
              "    }\n",
              "</style>\n",
              "<table border=\"1\" class=\"dataframe\">\n",
              "  <thead>\n",
              "    <tr style=\"text-align: right;\">\n",
              "      <th></th>\n",
              "      <th>category</th>\n",
              "      <th>raw_sketch_ind</th>\n",
              "      <th>fc6_sketch_ind</th>\n",
              "      <th>raw_sketch_pca_ind</th>\n",
              "      <th>fc6_sketch_pca_ind</th>\n",
              "    </tr>\n",
              "  </thead>\n",
              "  <tbody>\n",
              "    <tr>\n",
              "      <th>0</th>\n",
              "      <td>airplane</td>\n",
              "      <td>15</td>\n",
              "      <td>11295</td>\n",
              "      <td>15</td>\n",
              "      <td>11295</td>\n",
              "    </tr>\n",
              "    <tr>\n",
              "      <th>1</th>\n",
              "      <td>airplane</td>\n",
              "      <td>34</td>\n",
              "      <td>5889</td>\n",
              "      <td>34</td>\n",
              "      <td>5889</td>\n",
              "    </tr>\n",
              "    <tr>\n",
              "      <th>2</th>\n",
              "      <td>airplane</td>\n",
              "      <td>93</td>\n",
              "      <td>916</td>\n",
              "      <td>93</td>\n",
              "      <td>916</td>\n",
              "    </tr>\n",
              "    <tr>\n",
              "      <th>3</th>\n",
              "      <td>airplane</td>\n",
              "      <td>111</td>\n",
              "      <td>455</td>\n",
              "      <td>111</td>\n",
              "      <td>455</td>\n",
              "    </tr>\n",
              "    <tr>\n",
              "      <th>4</th>\n",
              "      <td>airplane</td>\n",
              "      <td>150</td>\n",
              "      <td>12195</td>\n",
              "      <td>150</td>\n",
              "      <td>12195</td>\n",
              "    </tr>\n",
              "    <tr>\n",
              "      <th>...</th>\n",
              "      <td>...</td>\n",
              "      <td>...</td>\n",
              "      <td>...</td>\n",
              "      <td>...</td>\n",
              "      <td>...</td>\n",
              "    </tr>\n",
              "    <tr>\n",
              "      <th>12283</th>\n",
              "      <td>window</td>\n",
              "      <td>12131</td>\n",
              "      <td>7219</td>\n",
              "      <td>12131</td>\n",
              "      <td>7219</td>\n",
              "    </tr>\n",
              "    <tr>\n",
              "      <th>12284</th>\n",
              "      <td>window</td>\n",
              "      <td>12188</td>\n",
              "      <td>10992</td>\n",
              "      <td>12188</td>\n",
              "      <td>10992</td>\n",
              "    </tr>\n",
              "    <tr>\n",
              "      <th>12285</th>\n",
              "      <td>window</td>\n",
              "      <td>12223</td>\n",
              "      <td>1674</td>\n",
              "      <td>12223</td>\n",
              "      <td>1674</td>\n",
              "    </tr>\n",
              "    <tr>\n",
              "      <th>12286</th>\n",
              "      <td>window</td>\n",
              "      <td>12232</td>\n",
              "      <td>8194</td>\n",
              "      <td>12232</td>\n",
              "      <td>8194</td>\n",
              "    </tr>\n",
              "    <tr>\n",
              "      <th>12287</th>\n",
              "      <td>window</td>\n",
              "      <td>12271</td>\n",
              "      <td>3553</td>\n",
              "      <td>12271</td>\n",
              "      <td>3553</td>\n",
              "    </tr>\n",
              "  </tbody>\n",
              "</table>\n",
              "<p>12288 rows × 5 columns</p>\n",
              "</div>"
            ],
            "text/plain": [
              "       category  raw_sketch_ind  ...  raw_sketch_pca_ind  fc6_sketch_pca_ind\n",
              "0      airplane              15  ...                  15               11295\n",
              "1      airplane              34  ...                  34                5889\n",
              "2      airplane              93  ...                  93                 916\n",
              "3      airplane             111  ...                 111                 455\n",
              "4      airplane             150  ...                 150               12195\n",
              "...         ...             ...  ...                 ...                 ...\n",
              "12283    window           12131  ...               12131                7219\n",
              "12284    window           12188  ...               12188               10992\n",
              "12285    window           12223  ...               12223                1674\n",
              "12286    window           12232  ...               12232                8194\n",
              "12287    window           12271  ...               12271                3553\n",
              "\n",
              "[12288 rows x 5 columns]"
            ]
          },
          "metadata": {
            "tags": []
          },
          "execution_count": 10
        }
      ]
    },
    {
      "cell_type": "code",
      "metadata": {
        "id": "rYYbwoj88HFX",
        "colab": {
          "base_uri": "https://localhost:8080/",
          "height": 423
        },
        "outputId": "b697debe-29c6-417c-9d0c-aee73142308d"
      },
      "source": [
        "# create new column called category_factored by transforming cateogry column \n",
        "# with an encoder\n",
        "from sklearn.preprocessing import LabelEncoder\n",
        "metaData['category_factored'] = LabelEncoder().fit_transform(metaData.category)\n",
        "metaData\n"
      ],
      "execution_count": null,
      "outputs": [
        {
          "output_type": "execute_result",
          "data": {
            "text/html": [
              "<div>\n",
              "<style scoped>\n",
              "    .dataframe tbody tr th:only-of-type {\n",
              "        vertical-align: middle;\n",
              "    }\n",
              "\n",
              "    .dataframe tbody tr th {\n",
              "        vertical-align: top;\n",
              "    }\n",
              "\n",
              "    .dataframe thead th {\n",
              "        text-align: right;\n",
              "    }\n",
              "</style>\n",
              "<table border=\"1\" class=\"dataframe\">\n",
              "  <thead>\n",
              "    <tr style=\"text-align: right;\">\n",
              "      <th></th>\n",
              "      <th>category</th>\n",
              "      <th>raw_sketch_ind</th>\n",
              "      <th>fc6_sketch_ind</th>\n",
              "      <th>raw_sketch_pca_ind</th>\n",
              "      <th>fc6_sketch_pca_ind</th>\n",
              "      <th>category_factored</th>\n",
              "    </tr>\n",
              "  </thead>\n",
              "  <tbody>\n",
              "    <tr>\n",
              "      <th>0</th>\n",
              "      <td>airplane</td>\n",
              "      <td>15</td>\n",
              "      <td>11295</td>\n",
              "      <td>15</td>\n",
              "      <td>11295</td>\n",
              "      <td>0</td>\n",
              "    </tr>\n",
              "    <tr>\n",
              "      <th>1</th>\n",
              "      <td>airplane</td>\n",
              "      <td>34</td>\n",
              "      <td>5889</td>\n",
              "      <td>34</td>\n",
              "      <td>5889</td>\n",
              "      <td>0</td>\n",
              "    </tr>\n",
              "    <tr>\n",
              "      <th>2</th>\n",
              "      <td>airplane</td>\n",
              "      <td>93</td>\n",
              "      <td>916</td>\n",
              "      <td>93</td>\n",
              "      <td>916</td>\n",
              "      <td>0</td>\n",
              "    </tr>\n",
              "    <tr>\n",
              "      <th>3</th>\n",
              "      <td>airplane</td>\n",
              "      <td>111</td>\n",
              "      <td>455</td>\n",
              "      <td>111</td>\n",
              "      <td>455</td>\n",
              "      <td>0</td>\n",
              "    </tr>\n",
              "    <tr>\n",
              "      <th>4</th>\n",
              "      <td>airplane</td>\n",
              "      <td>150</td>\n",
              "      <td>12195</td>\n",
              "      <td>150</td>\n",
              "      <td>12195</td>\n",
              "      <td>0</td>\n",
              "    </tr>\n",
              "    <tr>\n",
              "      <th>...</th>\n",
              "      <td>...</td>\n",
              "      <td>...</td>\n",
              "      <td>...</td>\n",
              "      <td>...</td>\n",
              "      <td>...</td>\n",
              "      <td>...</td>\n",
              "    </tr>\n",
              "    <tr>\n",
              "      <th>12283</th>\n",
              "      <td>window</td>\n",
              "      <td>12131</td>\n",
              "      <td>7219</td>\n",
              "      <td>12131</td>\n",
              "      <td>7219</td>\n",
              "      <td>32</td>\n",
              "    </tr>\n",
              "    <tr>\n",
              "      <th>12284</th>\n",
              "      <td>window</td>\n",
              "      <td>12188</td>\n",
              "      <td>10992</td>\n",
              "      <td>12188</td>\n",
              "      <td>10992</td>\n",
              "      <td>32</td>\n",
              "    </tr>\n",
              "    <tr>\n",
              "      <th>12285</th>\n",
              "      <td>window</td>\n",
              "      <td>12223</td>\n",
              "      <td>1674</td>\n",
              "      <td>12223</td>\n",
              "      <td>1674</td>\n",
              "      <td>32</td>\n",
              "    </tr>\n",
              "    <tr>\n",
              "      <th>12286</th>\n",
              "      <td>window</td>\n",
              "      <td>12232</td>\n",
              "      <td>8194</td>\n",
              "      <td>12232</td>\n",
              "      <td>8194</td>\n",
              "      <td>32</td>\n",
              "    </tr>\n",
              "    <tr>\n",
              "      <th>12287</th>\n",
              "      <td>window</td>\n",
              "      <td>12271</td>\n",
              "      <td>3553</td>\n",
              "      <td>12271</td>\n",
              "      <td>3553</td>\n",
              "      <td>32</td>\n",
              "    </tr>\n",
              "  </tbody>\n",
              "</table>\n",
              "<p>12288 rows × 6 columns</p>\n",
              "</div>"
            ],
            "text/plain": [
              "       category  raw_sketch_ind  ...  fc6_sketch_pca_ind  category_factored\n",
              "0      airplane              15  ...               11295                  0\n",
              "1      airplane              34  ...                5889                  0\n",
              "2      airplane              93  ...                 916                  0\n",
              "3      airplane             111  ...                 455                  0\n",
              "4      airplane             150  ...               12195                  0\n",
              "...         ...             ...  ...                 ...                ...\n",
              "12283    window           12131  ...                7219                 32\n",
              "12284    window           12188  ...               10992                 32\n",
              "12285    window           12223  ...                1674                 32\n",
              "12286    window           12232  ...                8194                 32\n",
              "12287    window           12271  ...                3553                 32\n",
              "\n",
              "[12288 rows x 6 columns]"
            ]
          },
          "metadata": {
            "tags": []
          },
          "execution_count": 11
        }
      ]
    },
    {
      "cell_type": "code",
      "metadata": {
        "id": "d_Lor4J29bHj"
      },
      "source": [
        "feature_set = [raw_nopca, fc6_nopca, raw_pca, fc6_pca]\n",
        "labels_set  = [metaData.sort_values(col).category_factored.values \n",
        "               for col in metaData.drop(columns=['category', 'category_factored']).columns]"
      ],
      "execution_count": null,
      "outputs": []
    },
    {
      "cell_type": "code",
      "metadata": {
        "id": "xZNK4rHb9zYb",
        "colab": {
          "base_uri": "https://localhost:8080/"
        },
        "outputId": "2fe35024-3ebe-47f3-9e03-e24d023858b6"
      },
      "source": [
        "from sklearn.cluster import MiniBatchKMeans\n",
        "from sklearn.metrics.cluster import fowlkes_mallows_score\n",
        "\n",
        "model = MiniBatchKMeans().fit(feature_set[3])\n",
        "print(fowlkes_mallows_score(labels_set[3], model.labels_))"
      ],
      "execution_count": null,
      "outputs": [
        {
          "output_type": "stream",
          "text": [
            "0.06793044469823496\n"
          ],
          "name": "stdout"
        }
      ]
    },
    {
      "cell_type": "code",
      "metadata": {
        "id": "3SyXMaehAMFz",
        "colab": {
          "base_uri": "https://localhost:8080/"
        },
        "outputId": "e1e6be07-bf70-4ea5-97cd-f43b715112b5"
      },
      "source": [
        "from collections import defaultdict \n",
        "from sklearn.cluster import KMeans\n",
        "\n",
        "d = defaultdict(lambda: 0)\n",
        "for i in [4, 8, 12, 16, 32]: # num clusters\n",
        "  for j in [10, 25, 50, 100]: #n_init\n",
        "    model = KMeans(n_clusters=i, n_init=j).fit(feature_set[3])\n",
        "    d[i, j] =  fowlkes_mallows_score(labels_set[3], model.labels_)\n",
        "    print(f'{j}, {i}: ', fowlkes_mallows_score(labels_set[3], model.labels_))"
      ],
      "execution_count": null,
      "outputs": [
        {
          "output_type": "stream",
          "text": [
            "10, 4:  0.08999204952238302\n",
            "25, 4:  0.08999321640478848\n",
            "50, 4:  0.08999457738397736\n",
            "100, 4:  0.08998483075783373\n",
            "10, 8:  0.06709355079173614\n",
            "25, 8:  0.06712003686985799\n",
            "50, 8:  0.06712977372787021\n",
            "100, 8:  0.06712562239915174\n",
            "10, 12:  0.0535612134137854\n",
            "25, 12:  0.05344385654545917\n",
            "50, 12:  0.05422404322847988\n",
            "100, 12:  0.0540673165639169\n",
            "10, 16:  0.04685846311731024\n",
            "25, 16:  0.046833269868839615\n",
            "50, 16:  0.04693687043156201\n",
            "100, 16:  0.04657980893720706\n",
            "10, 32:  0.032896964164682366\n",
            "25, 32:  0.03308033730456582\n",
            "50, 32:  0.0330111679677178\n",
            "100, 32:  0.033166108025834425\n"
          ],
          "name": "stdout"
        }
      ]
    },
    {
      "cell_type": "code",
      "metadata": {
        "id": "ul4DDX04aIEH",
        "colab": {
          "base_uri": "https://localhost:8080/"
        },
        "outputId": "b2c6e004-81f8-41df-b1bc-2c121cf3553d"
      },
      "source": [
        " # format of output is (num_clusters, batch size): fowlkes_mallows score\n",
        " # entries are sorted from largest to smallest\n",
        "sortedlist = sorted(d.items(), key=lambda x:x[1])\n",
        "sorteddict = dict(sortedlist)\n",
        "sorteddict"
      ],
      "execution_count": null,
      "outputs": [
        {
          "output_type": "execute_result",
          "data": {
            "text/plain": [
              "{(4, 10): 0.08999204952238302,\n",
              " (4, 25): 0.08999321640478848,\n",
              " (4, 50): 0.08999457738397736,\n",
              " (4, 100): 0.08998483075783373,\n",
              " (8, 10): 0.06709355079173614,\n",
              " (8, 25): 0.06712003686985799,\n",
              " (8, 50): 0.06712977372787021,\n",
              " (8, 100): 0.06712562239915174,\n",
              " (12, 10): 0.0535612134137854,\n",
              " (12, 25): 0.05344385654545917,\n",
              " (12, 50): 0.05422404322847988,\n",
              " (12, 100): 0.0540673165639169,\n",
              " (16, 10): 0.04685846311731024,\n",
              " (16, 25): 0.046833269868839615,\n",
              " (16, 50): 0.04693687043156201,\n",
              " (16, 100): 0.04657980893720706,\n",
              " (32, 10): 0.032896964164682366,\n",
              " (32, 25): 0.03308033730456582,\n",
              " (32, 50): 0.0330111679677178,\n",
              " (32, 100): 0.033166108025834425}"
            ]
          },
          "metadata": {
            "tags": []
          },
          "execution_count": 15
        }
      ]
    },
    {
      "cell_type": "code",
      "metadata": {
        "id": "dqrAY49tUI4K",
        "colab": {
          "base_uri": "https://localhost:8080/"
        },
        "outputId": "6d5895f6-d3a6-4197-be48-3704bbcbc533"
      },
      "source": [
        "# redoing above but nicer\n",
        "\n",
        "cols = metaData.drop(columns=['category', 'category_factored']).columns.values\n",
        "FMI = dict()\n",
        "for i, feature in enumerate(cols):\n",
        "    model = KMeans(n_clusters = 32).fit(feature_set[i])\n",
        "    FMI[feature[:-4]] = fowlkes_mallows_score(labels_set[i], model.labels_)\n",
        "    print(f'On feature {feature[:-4]}, score: {FMI[feature[:-4]]}')"
      ],
      "execution_count": null,
      "outputs": [
        {
          "output_type": "stream",
          "text": [
            "On feature raw_sketch, score: 0.10313105253691483\n",
            "On feature fc6_sketch, score: 0.03348551511177662\n",
            "On feature raw_sketch_pca, score: 0.0709553066456021\n",
            "On feature fc6_sketch_pca, score: 0.03292435211865361\n"
          ],
          "name": "stdout"
        }
      ]
    },
    {
      "cell_type": "markdown",
      "metadata": {
        "id": "59oD0sSRBvBm"
      },
      "source": [
        "# Ignore below... old code"
      ]
    },
    {
      "cell_type": "code",
      "metadata": {
        "id": "KWImZkb1dMqg",
        "colab": {
          "base_uri": "https://localhost:8080/"
        },
        "outputId": "502f7042-e5ae-406d-d84c-4c02a8fe9082"
      },
      "source": [
        "#iterate and create a labeled dataset \n",
        "labels = np.zeros(np.shape(raw_nopca)[0], dtype='<U20')\n",
        "print(\"Zero-filled labels\", np.shape(labels))\n",
        "# convert data to dataframe \n",
        "for ind in metaData.index: \n",
        "  index = metaData['raw_sketch_ind'][ind]\n",
        "  label = metaData['category'][ind]\n",
        "  labels[index] = label\n",
        "labels "
      ],
      "execution_count": null,
      "outputs": [
        {
          "output_type": "stream",
          "text": [
            "Zero-filled labels (12288,)\n"
          ],
          "name": "stdout"
        },
        {
          "output_type": "execute_result",
          "data": {
            "text/plain": [
              "array(['windmill', 'axe', 'snake', ..., 'snake', 'butterfly', 'hotdog'],\n",
              "      dtype='<U20')"
            ]
          },
          "metadata": {
            "tags": []
          },
          "execution_count": 17
        }
      ]
    },
    {
      "cell_type": "code",
      "metadata": {
        "id": "8SCdVfTRPqhH",
        "colab": {
          "base_uri": "https://localhost:8080/"
        },
        "outputId": "b36f6a2d-5fb9-4ec0-b023-d5ce5bfa97d7"
      },
      "source": [
        "# lets build our training and test set \n",
        "from sklearn.model_selection import train_test_split\n",
        "from sklearn.preprocessing import MinMaxScaler\n",
        "\n",
        "X_train, X_test, y_train, y_test = train_test_split(raw_nopca, labels)\n",
        "print(\"X-Train Shape:\", np.shape(X_train))\n",
        "print(\"X-Test Shape:\", np.shape(X_test))\n",
        "print(\"y-Train Shape:\", np.shape(y_train))\n",
        "print(\"y-Test Shape:\", np.shape(y_test))"
      ],
      "execution_count": null,
      "outputs": [
        {
          "output_type": "stream",
          "text": [
            "X-Train Shape: (9216, 50176)\n",
            "X-Test Shape: (3072, 50176)\n",
            "y-Train Shape: (9216,)\n",
            "y-Test Shape: (3072,)\n"
          ],
          "name": "stdout"
        }
      ]
    },
    {
      "cell_type": "code",
      "metadata": {
        "id": "iwVaQ4rN-eEg",
        "colab": {
          "base_uri": "https://localhost:8080/",
          "height": 321
        },
        "outputId": "ec24a8e3-5aec-4df1-bcd2-79c4c5d8c603"
      },
      "source": [
        "sample = X_train[0, :]\n",
        "print(y_train[0])\n",
        "print(np.shape(sample))\n",
        "sample = sample.reshape((224, 224))\n",
        "plt.imshow(sample)"
      ],
      "execution_count": null,
      "outputs": [
        {
          "output_type": "stream",
          "text": [
            "blimp\n",
            "(50176,)\n"
          ],
          "name": "stdout"
        },
        {
          "output_type": "execute_result",
          "data": {
            "text/plain": [
              "<matplotlib.image.AxesImage at 0x7fd143a6c410>"
            ]
          },
          "metadata": {
            "tags": []
          },
          "execution_count": 19
        },
        {
          "output_type": "display_data",
          "data": {
            "image/png": "[encoded data removed]",
            "text/plain": [
              "<Figure size 432x288 with 1 Axes>"
            ]
          },
          "metadata": {
            "tags": [],
            "needs_background": "light"
          }
        }
      ]
    }
  ]
}