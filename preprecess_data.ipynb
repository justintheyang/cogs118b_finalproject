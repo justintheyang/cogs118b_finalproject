{
 "cells": [
  {
   "cell_type": "markdown",
   "id": "theoretical-interaction",
   "metadata": {},
   "source": [
    "# Final Project for Cogs 118B\n",
    "Group Members:\n",
    "- Samruddhi Hande ([email](shande@ucsd.edu))\n",
    "- Ron Hasson ([email](rhasson@ucsd.edu))\n",
    "- Andrew Hernandez ([email](ash053@ucsd.edu))\n",
    "- Mehail Mathew Sunny ([email](msmathew@ucsd.edu))\n",
    "- Justin Yang ([email](justin-yang@ucsd.edu))"
   ]
  },
  {
   "cell_type": "markdown",
   "id": "compatible-storage",
   "metadata": {},
   "source": [
    "### Import packages and set up paths"
   ]
  },
  {
   "cell_type": "code",
   "execution_count": 1,
   "id": "confidential-montana",
   "metadata": {},
   "outputs": [],
   "source": [
    "import os\n",
    "import pandas as pd\n",
    "import numpy as np\n",
    "from PIL import Image\n",
    "from sklearn.decomposition import PCA"
   ]
  },
  {
   "cell_type": "code",
   "execution_count": 2,
   "id": "korean-youth",
   "metadata": {},
   "outputs": [],
   "source": [
    "# Change directory to photodraw project -- on Justin's local laptop\n",
    "orig_wd = os.path.abspath('data')\n",
    "os.chdir('F:\\\\photodraw\\\\analysis')\n",
    "\n",
    "# directory & file hierarchy\n",
    "proj_dir = os.path.abspath('..')\n",
    "analysis_dir = os.getcwd()\n",
    "results_dir = os.path.join(proj_dir,'results')\n",
    "csv_dir = os.path.join(results_dir,'csv')\n",
    "sketch_dir = os.path.abspath(os.path.join(proj_dir,'sketches'))\n",
    "feature_dir = os.path.abspath(os.path.join(proj_dir,'features'))\n",
    "    \n",
    "meta_path = os.path.abspath(os.path.join(feature_dir, 'metadata_pixels.csv'))\n",
    "image_path = os.path.abspath(os.path.join(feature_dir, 'flattened_sketches_pixels.npy'))\n",
    "meta_path_fc6 = os.path.abspath(os.path.join(feature_dir, 'METADATA_sketch.csv'))\n",
    "image_path_fc6 = os.path.abspath(os.path.join(feature_dir, 'FEATURES_FC6_sketch_no-channel-norm.npy'))"
   ]
  },
  {
   "cell_type": "markdown",
   "id": "changing-syndication",
   "metadata": {},
   "source": [
    "### Construct easy-to-use feature representations with corresponding metadata"
   ]
  },
  {
   "cell_type": "code",
   "execution_count": 3,
   "id": "sunrise-vessel",
   "metadata": {},
   "outputs": [],
   "source": [
    "sketchnames = os.listdir(os.path.join(sketch_dir, 'photodraw2x2'))\n",
    "sketchpaths = [os.path.join(sketch_dir, 'photodraw2x2', name) for name in sketchnames]"
   ]
  },
  {
   "cell_type": "code",
   "execution_count": 4,
   "id": "automated-transformation",
   "metadata": {},
   "outputs": [],
   "source": [
    "df = pd.DataFrame([(path.split('\\\\')[-1].split('_', 3)[-1].rsplit('_',3)[0],\n",
    "                   i) \n",
    "                   for i,path in enumerate(sketchpaths)], columns = ['category', 'raw_sketch_ind'])\n",
    "df = df.sort_values(by=['category', 'raw_sketch_ind']).reset_index(drop=True)"
   ]
  },
  {
   "cell_type": "code",
   "execution_count": 5,
   "id": "discrete-funds",
   "metadata": {},
   "outputs": [],
   "source": [
    "# put data into flattened num_sketchesx(224*224) array\n",
    "flattened_sketch_raw = [np.array(Image.open(path))[:,:,3].flatten() for path in sketchpaths]\n",
    "flattened_sketch_raw = np.vstack(flattened_sketch_raw)\n",
    "\n",
    "# convert rgba to binary, while also casting away inprecisions\n",
    "flattened_sketch_raw = flattened_sketch_raw / 255     \n",
    "flattened_sketch_raw = flattened_sketch_raw.astype(int)\n",
    "\n",
    "np.save(os.path.join(orig_wd, 'sketches_raw_nopca'), flattened_sketch_raw)"
   ]
  },
  {
   "cell_type": "code",
   "execution_count": 6,
   "id": "suburban-anger",
   "metadata": {},
   "outputs": [],
   "source": [
    "sketch_df = pd.read_csv(os.path.join(csv_dir, 'photodraw2x2_sketch_data.csv'))\n",
    "sketch_df = sketch_df.sort_values(by=['category'])\n",
    "F_fc6 = np.load(os.path.join(feature_dir, f'FEATURES_FC6_photodraw2x2_sketch.npy'))"
   ]
  },
  {
   "cell_type": "code",
   "execution_count": 7,
   "id": "configured-medication",
   "metadata": {
    "scrolled": true
   },
   "outputs": [],
   "source": [
    "F_fc6 = F_fc6[sketch_df.feature_ind.values]\n",
    "df['fc6_sketch_ind'] = sketch_df.feature_ind.values\n",
    "np.save(os.path.join(orig_wd, 'sketches_fc6_nopca'), F_fc6)"
   ]
  },
  {
   "cell_type": "code",
   "execution_count": 9,
   "id": "responsible-richardson",
   "metadata": {},
   "outputs": [],
   "source": [
    "pca = PCA(n_components=100)\n",
    "flattened_sketch_raw_pca = pca.fit_transform(flattened_sketch_raw)\n",
    "df['raw_sketch_pca_ind'] = df.raw_sketch_ind.values\n",
    "np.save(os.path.join(orig_wd, 'sketches_raw_pca'), flattened_sketch_raw_pca)"
   ]
  },
  {
   "cell_type": "code",
   "execution_count": 10,
   "id": "becoming-screening",
   "metadata": {},
   "outputs": [
    {
     "data": {
      "text/plain": [
       "array([0.01578763, 0.00921605, 0.00847987, 0.00707454, 0.00431856,\n",
       "       0.00420534, 0.00406048, 0.00327873, 0.00308827, 0.00289928,\n",
       "       0.00274532, 0.00270691, 0.0024798 , 0.00233328, 0.00225339,\n",
       "       0.0021528 , 0.00202969, 0.00197784, 0.00188014, 0.00184932,\n",
       "       0.00178209, 0.00174908, 0.00170956, 0.00167063, 0.00163295,\n",
       "       0.00158864, 0.00157283, 0.00153249, 0.00148812, 0.00147843,\n",
       "       0.00145237, 0.00143714, 0.00138856, 0.00137556, 0.00135323,\n",
       "       0.00135114, 0.00131148, 0.00127875, 0.00127645, 0.00127292,\n",
       "       0.00124718, 0.00123121, 0.00122015, 0.00121007, 0.00118175,\n",
       "       0.00116402, 0.00115972, 0.00114664, 0.00113694, 0.00112911,\n",
       "       0.00111525, 0.00111413, 0.00108532, 0.00107746, 0.00106794,\n",
       "       0.00106016, 0.00105088, 0.00103849, 0.00103289, 0.00103023,\n",
       "       0.00101597, 0.00101335, 0.00100215, 0.0009869 , 0.00098477,\n",
       "       0.00097857, 0.00095704, 0.00094837, 0.00094558, 0.00093971,\n",
       "       0.00093624, 0.00093289, 0.00092468, 0.00091711, 0.00091349,\n",
       "       0.00090949, 0.00089914, 0.00089787, 0.00088746, 0.00088273,\n",
       "       0.00087648, 0.00086788, 0.00085949, 0.00085327, 0.00084544,\n",
       "       0.00083926, 0.00083505, 0.00083371, 0.00082881, 0.00081935,\n",
       "       0.00081383, 0.00080823, 0.00080741, 0.00079979, 0.00079169,\n",
       "       0.00078903, 0.00078301, 0.00078158, 0.00077549, 0.00076503])"
      ]
     },
     "execution_count": 10,
     "metadata": {},
     "output_type": "execute_result"
    }
   ],
   "source": [
    "pca.explained_variance_ratio_"
   ]
  },
  {
   "cell_type": "code",
   "execution_count": 11,
   "id": "architectural-going",
   "metadata": {},
   "outputs": [
    {
     "data": {
      "text/plain": [
       "0.17226653149344687"
      ]
     },
     "execution_count": 11,
     "metadata": {},
     "output_type": "execute_result"
    }
   ],
   "source": [
    "sum(pca.explained_variance_ratio_)"
   ]
  },
  {
   "cell_type": "code",
   "execution_count": 12,
   "id": "minute-password",
   "metadata": {},
   "outputs": [],
   "source": [
    "pca = PCA(n_components=100)\n",
    "flattened_sketch_fc6_pca = pca.fit_transform(F_fc6)\n",
    "df['fc6_sketch_pca_ind'] = sketch_df.feature_ind.values\n",
    "np.save(os.path.join(orig_wd, 'sketches_fc6_pca'), flattened_sketch_fc6_pca)"
   ]
  },
  {
   "cell_type": "code",
   "execution_count": 13,
   "id": "sealed-grass",
   "metadata": {},
   "outputs": [
    {
     "data": {
      "text/plain": [
       "array([0.15037596, 0.09233716, 0.05246543, 0.03805462, 0.03609551,\n",
       "       0.02821388, 0.02515587, 0.02094992, 0.01914285, 0.01688796,\n",
       "       0.0148682 , 0.01350217, 0.01162995, 0.01121422, 0.0099503 ,\n",
       "       0.0096756 , 0.00913479, 0.00862238, 0.00764023, 0.00673766,\n",
       "       0.00656597, 0.00624368, 0.00595396, 0.00567503, 0.00538422,\n",
       "       0.00509788, 0.00481224, 0.00467246, 0.00435901, 0.00428869,\n",
       "       0.00421399, 0.00398709, 0.00397775, 0.00378253, 0.00374653,\n",
       "       0.0035372 , 0.00346483, 0.0033729 , 0.00330363, 0.0031794 ,\n",
       "       0.00313625, 0.00301402, 0.00288464, 0.00282521, 0.0027513 ,\n",
       "       0.00270727, 0.00267559, 0.00258625, 0.00256693, 0.00252794,\n",
       "       0.00247262, 0.00240036, 0.00233745, 0.00229766, 0.00227147,\n",
       "       0.00225098, 0.00211866, 0.00209548, 0.00199791, 0.0019473 ,\n",
       "       0.00190209, 0.00184384, 0.00181227, 0.00180796, 0.00176567,\n",
       "       0.00169692, 0.00167522, 0.00166307, 0.00163838, 0.00161411,\n",
       "       0.00155621, 0.00153532, 0.00151751, 0.00149896, 0.00144452,\n",
       "       0.00143599, 0.00139577, 0.0013771 , 0.0013538 , 0.00133521,\n",
       "       0.00131997, 0.0013011 , 0.00127502, 0.00126584, 0.00125333,\n",
       "       0.00124498, 0.00122619, 0.00119006, 0.00117557, 0.00114438,\n",
       "       0.00112347, 0.00110789, 0.00109735, 0.00108724, 0.00107646,\n",
       "       0.00104397, 0.00104075, 0.00102361, 0.00101116, 0.00097903],\n",
       "      dtype=float32)"
      ]
     },
     "execution_count": 13,
     "metadata": {},
     "output_type": "execute_result"
    }
   ],
   "source": [
    "pca.explained_variance_ratio_"
   ]
  },
  {
   "cell_type": "code",
   "execution_count": 14,
   "id": "heard-cosmetic",
   "metadata": {},
   "outputs": [
    {
     "data": {
      "text/plain": [
       "0.7769962185993791"
      ]
     },
     "execution_count": 14,
     "metadata": {},
     "output_type": "execute_result"
    }
   ],
   "source": [
    "sum(pca.explained_variance_ratio_)"
   ]
  },
  {
   "cell_type": "code",
   "execution_count": 15,
   "id": "eleven-unknown",
   "metadata": {},
   "outputs": [],
   "source": [
    "df.to_csv(os.path.join(orig_wd, 'sketches_metadata.csv'), index=False)"
   ]
  }
 ],
 "metadata": {
  "kernelspec": {
   "display_name": "Python 3",
   "language": "python",
   "name": "python3"
  },
  "language_info": {
   "codemirror_mode": {
    "name": "ipython",
    "version": 3
   },
   "file_extension": ".py",
   "mimetype": "text/x-python",
   "name": "python",
   "nbconvert_exporter": "python",
   "pygments_lexer": "ipython3",
   "version": "3.7.7"
  }
 },
 "nbformat": 4,
 "nbformat_minor": 5
}
