{
 "cells": [
  {
   "cell_type": "markdown",
   "id": "theoretical-interaction",
   "metadata": {},
   "source": [
    "# Final Project for Cogs 118B\n",
    "Group Members:\n",
    "- Samruddhi Hande ([email](shande@ucsd.edu))\n",
    "- Ron Hasson ([email](rhasson@ucsd.edu))\n",
    "- Andrew Hernandez ([email](ash053@ucsd.edu))\n",
    "- Mehail Mathew Sunny ([email](msmathew@ucsd.edu))\n",
    "- Justin Yang ([email](justin-yang@ucsd.edu))"
   ]
  },
  {
   "cell_type": "markdown",
   "id": "compatible-storage",
   "metadata": {},
   "source": [
    "### Import packages and set up paths"
   ]
  },
  {
   "cell_type": "code",
   "execution_count": 1,
   "id": "confidential-montana",
   "metadata": {},
   "outputs": [],
   "source": [
    "import os\n",
    "import pandas as pd\n",
    "import numpy as np\n",
    "from PIL import Image\n",
    "from sklearn.decomposition import PCA"
   ]
  },
  {
   "cell_type": "code",
   "execution_count": 2,
   "id": "korean-youth",
   "metadata": {},
   "outputs": [],
   "source": [
    "# Change directory to photodraw project -- on Justin's local laptop\n",
    "orig_wd = os.path.abspath('data')\n",
    "os.chdir('F:\\\\photodraw\\\\analysis')\n",
    "\n",
    "# directory & file hierarchy\n",
    "proj_dir = os.path.abspath('..')\n",
    "analysis_dir = os.getcwd()\n",
    "results_dir = os.path.join(proj_dir,'results')\n",
    "csv_dir = os.path.join(results_dir,'csv')\n",
    "sketch_dir = os.path.abspath(os.path.join(proj_dir,'sketches'))\n",
    "feature_dir = os.path.abspath(os.path.join(proj_dir,'features'))\n",
    "    \n",
    "meta_path = os.path.abspath(os.path.join(feature_dir, 'metadata_pixels.csv'))\n",
    "image_path = os.path.abspath(os.path.join(feature_dir, 'flattened_sketches_pixels.npy'))\n",
    "meta_path_fc6 = os.path.abspath(os.path.join(feature_dir, 'METADATA_sketch.csv'))\n",
    "image_path_fc6 = os.path.abspath(os.path.join(feature_dir, 'FEATURES_FC6_sketch_no-channel-norm.npy'))"
   ]
  },
  {
   "cell_type": "markdown",
   "id": "changing-syndication",
   "metadata": {},
   "source": [
    "### Construct easy-to-use feature representations with corresponding metadata"
   ]
  },
  {
   "cell_type": "code",
   "execution_count": 3,
   "id": "sunrise-vessel",
   "metadata": {},
   "outputs": [],
   "source": [
    "sketchnames = os.listdir(os.path.join(sketch_dir, 'photodraw2x2'))\n",
    "sketchpaths = [os.path.join(sketch_dir, 'photodraw2x2', name) for name in sketchnames]"
   ]
  },
  {
   "cell_type": "code",
   "execution_count": 4,
   "id": "automated-transformation",
   "metadata": {},
   "outputs": [],
   "source": [
    "df = pd.DataFrame([(path.split('\\\\')[-1].split('_', 3)[-1].rsplit('_',3)[0],\n",
    "                   i) \n",
    "                   for i,path in enumerate(sketchpaths)], columns = ['category', 'raw_sketch_ind'])\n",
    "df = df.sort_values(by=['category', 'raw_sketch_ind']).reset_index(drop=True)"
   ]
  },
  {
   "cell_type": "code",
   "execution_count": 5,
   "id": "discrete-funds",
   "metadata": {},
   "outputs": [],
   "source": [
    "# put data into flattened num_sketchesx(224*224) array\n",
    "flattened_sketch_raw = [np.array(Image.open(path))[:,:,3].flatten() for path in sketchpaths]\n",
    "flattened_sketch_raw = np.vstack(flattened_sketch_raw)\n",
    "\n",
    "# convert rgba to binary, while also casting away inprecisions\n",
    "flattened_sketch_raw = flattened_sketch_raw / 255     \n",
    "flattened_sketch_raw = flattened_sketch_raw.astype(int)\n",
    "\n",
    "np.save(os.path.join(orig_wd, 'sketches_raw_nopca'), flattened_sketch_raw)"
   ]
  },
  {
   "cell_type": "code",
   "execution_count": 6,
   "id": "suburban-anger",
   "metadata": {},
   "outputs": [],
   "source": [
    "sketch_df = pd.read_csv(os.path.join(csv_dir, 'photodraw2x2_sketch_data.csv'))\n",
    "sketch_df = sketch_df.sort_values(by=['category'])\n",
    "F_fc6 = np.load(os.path.join(feature_dir, f'FEATURES_FC6_photodraw2x2_sketch.npy'))"
   ]
  },
  {
   "cell_type": "code",
   "execution_count": 7,
   "id": "configured-medication",
   "metadata": {
    "scrolled": true
   },
   "outputs": [],
   "source": [
    "F_fc6 = F_fc6[sketch_df.feature_ind.values]\n",
    "df['fc6_sketch_ind'] = sketch_df.feature_ind.values\n",
    "np.save(os.path.join(orig_wd, 'sketches_fc6_nopca'), F_fc6)"
   ]
  },
  {
   "cell_type": "code",
   "execution_count": 8,
   "id": "responsible-richardson",
   "metadata": {},
   "outputs": [],
   "source": [
    "pca = PCA(n_components=10)\n",
    "flattened_sketch_raw_pca = pca.fit_transform(flattened_sketch_raw)\n",
    "df['raw_sketch_pca_ind'] = df.raw_sketch_ind.values\n",
    "np.save(os.path.join(orig_wd, 'sketches_raw_pca'), flattened_sketch_raw_pca)"
   ]
  },
  {
   "cell_type": "code",
   "execution_count": 9,
   "id": "minute-password",
   "metadata": {},
   "outputs": [],
   "source": [
    "pca = PCA(n_components=10)\n",
    "flattened_sketch_fc6_pca = pca.fit_transform(F_fc6)\n",
    "df['fc6_sketch_pca_ind'] = sketch_df.feature_ind.values\n",
    "np.save(os.path.join(orig_wd, 'sketches_fc6_pca'), flattened_sketch_fc6_pca)"
   ]
  },
  {
   "cell_type": "code",
   "execution_count": 10,
   "id": "eleven-unknown",
   "metadata": {},
   "outputs": [],
   "source": [
    "df.to_csv(os.path.join(orig_wd, 'sketches_metadata.csv'), index=False)"
   ]
  }
 ],
 "metadata": {
  "kernelspec": {
   "display_name": "Python 3",
   "language": "python",
   "name": "python3"
  },
  "language_info": {
   "codemirror_mode": {
    "name": "ipython",
    "version": 3
   },
   "file_extension": ".py",
   "mimetype": "text/x-python",
   "name": "python",
   "nbconvert_exporter": "python",
   "pygments_lexer": "ipython3",
   "version": "3.7.7"
  }
 },
 "nbformat": 4,
 "nbformat_minor": 5
}
