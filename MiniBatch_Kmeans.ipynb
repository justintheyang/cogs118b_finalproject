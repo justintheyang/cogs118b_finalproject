{
  "nbformat": 4,
  "nbformat_minor": 0,
  "metadata": {
    "colab": {
      "name": "COGS118B_Final_kmeans.ipynb",
      "provenance": [],
      "machine_shape": "hm"
    },
    "kernelspec": {
      "name": "python3",
      "display_name": "Python 3"
    },
    "language_info": {
      "name": "python"
    },
    "accelerator": "GPU"
  },
  "cells": [
    {
      "cell_type": "code",
      "metadata": {
        "id": "o9Ohx6Cp59Gl"
      },
      "source": [
        "import numpy as np\n",
        "import matplotlib\n",
        "from matplotlib import pyplot as plt\n",
        "import pandas as pd\n",
        "import os\n",
        "%matplotlib inline"
      ],
      "execution_count": 27,
      "outputs": []
    },
    {
      "cell_type": "code",
      "metadata": {
        "colab": {
          "base_uri": "https://localhost:8080/"
        },
        "id": "BHRPcOel9XC_",
        "outputId": "fa9db22b-ce51-4b8c-96f6-0e7652f78161"
      },
      "source": [
        "#Path to Files\n",
        "from google.colab import drive\n",
        "import os\n",
        "drive.mount('/content/gdrive')\n",
        "\n",
        "#authentication key will ask you to log in, this ensures the user has to sign in, \n",
        "# folder access only allowed to ucsd users. "
      ],
      "execution_count": 28,
      "outputs": [
        {
          "output_type": "stream",
          "text": [
            "Drive already mounted at /content/gdrive; to attempt to forcibly remount, call drive.mount(\"/content/gdrive\", force_remount=True).\n"
          ],
          "name": "stdout"
        }
      ]
    },
    {
      "cell_type": "code",
      "metadata": {
        "colab": {
          "base_uri": "https://localhost:8080/"
        },
        "id": "lqeSGDLD-XjA",
        "outputId": "3877019d-1074-4842-ec05-eeaea2e96914"
      },
      "source": [
        "# check path\n",
        "!ls gdrive/Shareddrives/Cogs118BFinalProject/"
      ],
      "execution_count": 29,
      "outputs": [
        {
          "output_type": "stream",
          "text": [
            "sketches_fc6_nopca.npy\tsketches_metadata.csv\t  sketches_raw_nopca.npy\n",
            "sketches_fc6_pca.npy\tsketches_metadata.gsheet  sketches_raw_pca.npy\n"
          ],
          "name": "stdout"
        }
      ]
    },
    {
      "cell_type": "code",
      "metadata": {
        "colab": {
          "base_uri": "https://localhost:8080/"
        },
        "id": "qMZay49uY4VF",
        "outputId": "416737a7-4310-419e-cbd3-ae1ed33974b6"
      },
      "source": [
        "path_to_directory = 'gdrive/Shareddrives/Cogs118BFinalProject/'\n",
        "files = os.listdir(path_to_directory)\n",
        "files"
      ],
      "execution_count": 30,
      "outputs": [
        {
          "output_type": "execute_result",
          "data": {
            "text/plain": [
              "['sketches_raw_pca.npy',\n",
              " 'sketches_raw_nopca.npy',\n",
              " 'sketches_metadata.csv',\n",
              " 'sketches_fc6_pca.npy',\n",
              " 'sketches_fc6_nopca.npy',\n",
              " 'sketches_metadata.gsheet']"
            ]
          },
          "metadata": {
            "tags": []
          },
          "execution_count": 30
        }
      ]
    },
    {
      "cell_type": "code",
      "metadata": {
        "colab": {
          "base_uri": "https://localhost:8080/"
        },
        "id": "4iyQNxuwFZyl",
        "outputId": "f5c64a95-90a9-40fc-a2fd-3a82d45bd7e1"
      },
      "source": [
        "path = os.path.join(path_to_directory, files[1])\n",
        "raw_nopca = np.load(path)\n",
        "print(\"type: \", type(raw_nopca))\n",
        "print(\"shape: \", np.shape(raw_nopca))"
      ],
      "execution_count": 31,
      "outputs": [
        {
          "output_type": "stream",
          "text": [
            "type:  <class 'numpy.ndarray'>\n",
            "shape:  (12288, 50176)\n"
          ],
          "name": "stdout"
        }
      ]
    },
    {
      "cell_type": "code",
      "metadata": {
        "colab": {
          "base_uri": "https://localhost:8080/",
          "height": 321
        },
        "id": "NKg7iUfn3yBt",
        "outputId": "ed5f13fe-234b-44fb-bf63-533230089c6f"
      },
      "source": [
        "#plot something from nopca\n",
        "sample = raw_nopca[93, :]\n",
        "print(np.shape(sample))\n",
        "sample = sample.reshape((224,  224))\n",
        "print(np.shape(sample))\n",
        "plt.imshow(sample)"
      ],
      "execution_count": 32,
      "outputs": [
        {
          "output_type": "stream",
          "text": [
            "(50176,)\n",
            "(224, 224)\n"
          ],
          "name": "stdout"
        },
        {
          "output_type": "execute_result",
          "data": {
            "text/plain": [
              "<matplotlib.image.AxesImage at 0x7f500874cad0>"
            ]
          },
          "metadata": {
            "tags": []
          },
          "execution_count": 32
        },
        {
          "output_type": "display_data",
          "data": {
            "image/png": "[encoded data removed]",
            "text/plain": [
              "<Figure size 432x288 with 1 Axes>"
            ]
          },
          "metadata": {
            "tags": [],
            "needs_background": "light"
          }
        }
      ]
    },
    {
      "cell_type": "code",
      "metadata": {
        "id": "WH89z8FruktP",
        "colab": {
          "base_uri": "https://localhost:8080/",
          "height": 335
        },
        "outputId": "de8f2e95-b8ee-4377-c017-e425f20b7bcc"
      },
      "source": [
        "#plot an example from pca \n",
        "path = os.path.join(path_to_directory, files[0])\n",
        "raw_pca = np.load(path)\n",
        "print(\"type: \", type(raw_pca))\n",
        "print(\"shape: \", np.shape(raw_pca))\n",
        "sample = raw_pca[0, :]\n",
        "sample = sample.reshape((10,  10))\n",
        "print(np.shape(sample))\n",
        "plt.imshow(sample)"
      ],
      "execution_count": 33,
      "outputs": [
        {
          "output_type": "stream",
          "text": [
            "type:  <class 'numpy.ndarray'>\n",
            "shape:  (12288, 100)\n",
            "(10, 10)\n"
          ],
          "name": "stdout"
        },
        {
          "output_type": "execute_result",
          "data": {
            "text/plain": [
              "<matplotlib.image.AxesImage at 0x7f5003b80b50>"
            ]
          },
          "metadata": {
            "tags": []
          },
          "execution_count": 33
        },
        {
          "output_type": "display_data",
          "data": {
            "image/png": "[encoded data removed]",
            "text/plain": [
              "<Figure size 432x288 with 1 Axes>"
            ]
          },
          "metadata": {
            "tags": [],
            "needs_background": "light"
          }
        }
      ]
    },
    {
      "cell_type": "code",
      "metadata": {
        "colab": {
          "base_uri": "https://localhost:8080/",
          "height": 337
        },
        "id": "DYZ1AMznw6Op",
        "outputId": "e8a7831d-9c98-4b17-8ab5-64237cc92540"
      },
      "source": [
        "#plot an example from the fc6_nopca \n",
        "path = os.path.join(path_to_directory, files[4])\n",
        "fc6_nopca = np.load(path)\n",
        "print(\"type: \", type(fc6_nopca))\n",
        "print(\"shape: \", np.shape(fc6_nopca))\n",
        "sample = fc6_nopca[0, :]\n",
        "sample = sample.reshape((64,  64))\n",
        "print(np.shape(sample))\n",
        "plt.imshow(sample)"
      ],
      "execution_count": 34,
      "outputs": [
        {
          "output_type": "stream",
          "text": [
            "type:  <class 'numpy.ndarray'>\n",
            "shape:  (12288, 4096)\n",
            "(64, 64)\n"
          ],
          "name": "stdout"
        },
        {
          "output_type": "execute_result",
          "data": {
            "text/plain": [
              "<matplotlib.image.AxesImage at 0x7f5003ae92d0>"
            ]
          },
          "metadata": {
            "tags": []
          },
          "execution_count": 34
        },
        {
          "output_type": "display_data",
          "data": {
            "image/png": "[encoded data removed]",
            "text/plain": [
              "<Figure size 432x288 with 1 Axes>"
            ]
          },
          "metadata": {
            "tags": [],
            "needs_background": "light"
          }
        }
      ]
    },
    {
      "cell_type": "code",
      "metadata": {
        "id": "AJZvyxOSyrHr",
        "colab": {
          "base_uri": "https://localhost:8080/",
          "height": 335
        },
        "outputId": "0bfee674-e4be-4065-849c-17a856531c29"
      },
      "source": [
        "#plot an example from the fc6_nopca \n",
        "path = os.path.join(path_to_directory, files[3])\n",
        "fc6_pca = np.load(path)\n",
        "print(\"type: \", type(fc6_pca))\n",
        "print(\"shape: \", np.shape(fc6_pca))\n",
        "sample = fc6_pca[0, :]\n",
        "sample = sample.reshape((10,  10))\n",
        "print(np.shape(sample))\n",
        "plt.imshow(sample)"
      ],
      "execution_count": 35,
      "outputs": [
        {
          "output_type": "stream",
          "text": [
            "type:  <class 'numpy.ndarray'>\n",
            "shape:  (12288, 100)\n",
            "(10, 10)\n"
          ],
          "name": "stdout"
        },
        {
          "output_type": "execute_result",
          "data": {
            "text/plain": [
              "<matplotlib.image.AxesImage at 0x7f5003a5b950>"
            ]
          },
          "metadata": {
            "tags": []
          },
          "execution_count": 35
        },
        {
          "output_type": "display_data",
          "data": {
            "image/png": "[encoded data removed]",
            "text/plain": [
              "<Figure size 432x288 with 1 Axes>"
            ]
          },
          "metadata": {
            "tags": [],
            "needs_background": "light"
          }
        }
      ]
    },
    {
      "cell_type": "code",
      "metadata": {
        "id": "QaLB694hXQbL",
        "colab": {
          "base_uri": "https://localhost:8080/",
          "height": 423
        },
        "outputId": "c77e1398-235d-4a20-d4c0-3d22d4553a4b"
      },
      "source": [
        "metaData = pd.read_csv(os.path.join(path_to_directory, files[2]))\n",
        "metaData"
      ],
      "execution_count": 36,
      "outputs": [
        {
          "output_type": "execute_result",
          "data": {
            "text/html": [
              "<div>\n",
              "<style scoped>\n",
              "    .dataframe tbody tr th:only-of-type {\n",
              "        vertical-align: middle;\n",
              "    }\n",
              "\n",
              "    .dataframe tbody tr th {\n",
              "        vertical-align: top;\n",
              "    }\n",
              "\n",
              "    .dataframe thead th {\n",
              "        text-align: right;\n",
              "    }\n",
              "</style>\n",
              "<table border=\"1\" class=\"dataframe\">\n",
              "  <thead>\n",
              "    <tr style=\"text-align: right;\">\n",
              "      <th></th>\n",
              "      <th>category</th>\n",
              "      <th>raw_sketch_ind</th>\n",
              "      <th>fc6_sketch_ind</th>\n",
              "      <th>raw_sketch_pca_ind</th>\n",
              "      <th>fc6_sketch_pca_ind</th>\n",
              "    </tr>\n",
              "  </thead>\n",
              "  <tbody>\n",
              "    <tr>\n",
              "      <th>0</th>\n",
              "      <td>airplane</td>\n",
              "      <td>15</td>\n",
              "      <td>11295</td>\n",
              "      <td>15</td>\n",
              "      <td>11295</td>\n",
              "    </tr>\n",
              "    <tr>\n",
              "      <th>1</th>\n",
              "      <td>airplane</td>\n",
              "      <td>34</td>\n",
              "      <td>5889</td>\n",
              "      <td>34</td>\n",
              "      <td>5889</td>\n",
              "    </tr>\n",
              "    <tr>\n",
              "      <th>2</th>\n",
              "      <td>airplane</td>\n",
              "      <td>93</td>\n",
              "      <td>916</td>\n",
              "      <td>93</td>\n",
              "      <td>916</td>\n",
              "    </tr>\n",
              "    <tr>\n",
              "      <th>3</th>\n",
              "      <td>airplane</td>\n",
              "      <td>111</td>\n",
              "      <td>455</td>\n",
              "      <td>111</td>\n",
              "      <td>455</td>\n",
              "    </tr>\n",
              "    <tr>\n",
              "      <th>4</th>\n",
              "      <td>airplane</td>\n",
              "      <td>150</td>\n",
              "      <td>12195</td>\n",
              "      <td>150</td>\n",
              "      <td>12195</td>\n",
              "    </tr>\n",
              "    <tr>\n",
              "      <th>...</th>\n",
              "      <td>...</td>\n",
              "      <td>...</td>\n",
              "      <td>...</td>\n",
              "      <td>...</td>\n",
              "      <td>...</td>\n",
              "    </tr>\n",
              "    <tr>\n",
              "      <th>12283</th>\n",
              "      <td>window</td>\n",
              "      <td>12131</td>\n",
              "      <td>7219</td>\n",
              "      <td>12131</td>\n",
              "      <td>7219</td>\n",
              "    </tr>\n",
              "    <tr>\n",
              "      <th>12284</th>\n",
              "      <td>window</td>\n",
              "      <td>12188</td>\n",
              "      <td>10992</td>\n",
              "      <td>12188</td>\n",
              "      <td>10992</td>\n",
              "    </tr>\n",
              "    <tr>\n",
              "      <th>12285</th>\n",
              "      <td>window</td>\n",
              "      <td>12223</td>\n",
              "      <td>1674</td>\n",
              "      <td>12223</td>\n",
              "      <td>1674</td>\n",
              "    </tr>\n",
              "    <tr>\n",
              "      <th>12286</th>\n",
              "      <td>window</td>\n",
              "      <td>12232</td>\n",
              "      <td>8194</td>\n",
              "      <td>12232</td>\n",
              "      <td>8194</td>\n",
              "    </tr>\n",
              "    <tr>\n",
              "      <th>12287</th>\n",
              "      <td>window</td>\n",
              "      <td>12271</td>\n",
              "      <td>3553</td>\n",
              "      <td>12271</td>\n",
              "      <td>3553</td>\n",
              "    </tr>\n",
              "  </tbody>\n",
              "</table>\n",
              "<p>12288 rows × 5 columns</p>\n",
              "</div>"
            ],
            "text/plain": [
              "       category  raw_sketch_ind  ...  raw_sketch_pca_ind  fc6_sketch_pca_ind\n",
              "0      airplane              15  ...                  15               11295\n",
              "1      airplane              34  ...                  34                5889\n",
              "2      airplane              93  ...                  93                 916\n",
              "3      airplane             111  ...                 111                 455\n",
              "4      airplane             150  ...                 150               12195\n",
              "...         ...             ...  ...                 ...                 ...\n",
              "12283    window           12131  ...               12131                7219\n",
              "12284    window           12188  ...               12188               10992\n",
              "12285    window           12223  ...               12223                1674\n",
              "12286    window           12232  ...               12232                8194\n",
              "12287    window           12271  ...               12271                3553\n",
              "\n",
              "[12288 rows x 5 columns]"
            ]
          },
          "metadata": {
            "tags": []
          },
          "execution_count": 36
        }
      ]
    },
    {
      "cell_type": "code",
      "metadata": {
        "colab": {
          "base_uri": "https://localhost:8080/",
          "height": 423
        },
        "id": "rYYbwoj88HFX",
        "outputId": "132dd369-0cd9-412d-a35e-0557a8f892a0"
      },
      "source": [
        "from sklearn.preprocessing import LabelEncoder\n",
        "metaData['category_factored'] = LabelEncoder().fit_transform(metaData.category)\n",
        "metaData"
      ],
      "execution_count": 37,
      "outputs": [
        {
          "output_type": "execute_result",
          "data": {
            "text/html": [
              "<div>\n",
              "<style scoped>\n",
              "    .dataframe tbody tr th:only-of-type {\n",
              "        vertical-align: middle;\n",
              "    }\n",
              "\n",
              "    .dataframe tbody tr th {\n",
              "        vertical-align: top;\n",
              "    }\n",
              "\n",
              "    .dataframe thead th {\n",
              "        text-align: right;\n",
              "    }\n",
              "</style>\n",
              "<table border=\"1\" class=\"dataframe\">\n",
              "  <thead>\n",
              "    <tr style=\"text-align: right;\">\n",
              "      <th></th>\n",
              "      <th>category</th>\n",
              "      <th>raw_sketch_ind</th>\n",
              "      <th>fc6_sketch_ind</th>\n",
              "      <th>raw_sketch_pca_ind</th>\n",
              "      <th>fc6_sketch_pca_ind</th>\n",
              "      <th>category_factored</th>\n",
              "    </tr>\n",
              "  </thead>\n",
              "  <tbody>\n",
              "    <tr>\n",
              "      <th>0</th>\n",
              "      <td>airplane</td>\n",
              "      <td>15</td>\n",
              "      <td>11295</td>\n",
              "      <td>15</td>\n",
              "      <td>11295</td>\n",
              "      <td>0</td>\n",
              "    </tr>\n",
              "    <tr>\n",
              "      <th>1</th>\n",
              "      <td>airplane</td>\n",
              "      <td>34</td>\n",
              "      <td>5889</td>\n",
              "      <td>34</td>\n",
              "      <td>5889</td>\n",
              "      <td>0</td>\n",
              "    </tr>\n",
              "    <tr>\n",
              "      <th>2</th>\n",
              "      <td>airplane</td>\n",
              "      <td>93</td>\n",
              "      <td>916</td>\n",
              "      <td>93</td>\n",
              "      <td>916</td>\n",
              "      <td>0</td>\n",
              "    </tr>\n",
              "    <tr>\n",
              "      <th>3</th>\n",
              "      <td>airplane</td>\n",
              "      <td>111</td>\n",
              "      <td>455</td>\n",
              "      <td>111</td>\n",
              "      <td>455</td>\n",
              "      <td>0</td>\n",
              "    </tr>\n",
              "    <tr>\n",
              "      <th>4</th>\n",
              "      <td>airplane</td>\n",
              "      <td>150</td>\n",
              "      <td>12195</td>\n",
              "      <td>150</td>\n",
              "      <td>12195</td>\n",
              "      <td>0</td>\n",
              "    </tr>\n",
              "    <tr>\n",
              "      <th>...</th>\n",
              "      <td>...</td>\n",
              "      <td>...</td>\n",
              "      <td>...</td>\n",
              "      <td>...</td>\n",
              "      <td>...</td>\n",
              "      <td>...</td>\n",
              "    </tr>\n",
              "    <tr>\n",
              "      <th>12283</th>\n",
              "      <td>window</td>\n",
              "      <td>12131</td>\n",
              "      <td>7219</td>\n",
              "      <td>12131</td>\n",
              "      <td>7219</td>\n",
              "      <td>32</td>\n",
              "    </tr>\n",
              "    <tr>\n",
              "      <th>12284</th>\n",
              "      <td>window</td>\n",
              "      <td>12188</td>\n",
              "      <td>10992</td>\n",
              "      <td>12188</td>\n",
              "      <td>10992</td>\n",
              "      <td>32</td>\n",
              "    </tr>\n",
              "    <tr>\n",
              "      <th>12285</th>\n",
              "      <td>window</td>\n",
              "      <td>12223</td>\n",
              "      <td>1674</td>\n",
              "      <td>12223</td>\n",
              "      <td>1674</td>\n",
              "      <td>32</td>\n",
              "    </tr>\n",
              "    <tr>\n",
              "      <th>12286</th>\n",
              "      <td>window</td>\n",
              "      <td>12232</td>\n",
              "      <td>8194</td>\n",
              "      <td>12232</td>\n",
              "      <td>8194</td>\n",
              "      <td>32</td>\n",
              "    </tr>\n",
              "    <tr>\n",
              "      <th>12287</th>\n",
              "      <td>window</td>\n",
              "      <td>12271</td>\n",
              "      <td>3553</td>\n",
              "      <td>12271</td>\n",
              "      <td>3553</td>\n",
              "      <td>32</td>\n",
              "    </tr>\n",
              "  </tbody>\n",
              "</table>\n",
              "<p>12288 rows × 6 columns</p>\n",
              "</div>"
            ],
            "text/plain": [
              "       category  raw_sketch_ind  ...  fc6_sketch_pca_ind  category_factored\n",
              "0      airplane              15  ...               11295                  0\n",
              "1      airplane              34  ...                5889                  0\n",
              "2      airplane              93  ...                 916                  0\n",
              "3      airplane             111  ...                 455                  0\n",
              "4      airplane             150  ...               12195                  0\n",
              "...         ...             ...  ...                 ...                ...\n",
              "12283    window           12131  ...                7219                 32\n",
              "12284    window           12188  ...               10992                 32\n",
              "12285    window           12223  ...                1674                 32\n",
              "12286    window           12232  ...                8194                 32\n",
              "12287    window           12271  ...                3553                 32\n",
              "\n",
              "[12288 rows x 6 columns]"
            ]
          },
          "metadata": {
            "tags": []
          },
          "execution_count": 37
        }
      ]
    },
    {
      "cell_type": "code",
      "metadata": {
        "id": "d_Lor4J29bHj"
      },
      "source": [
        "feature_set = [raw_nopca, fc6_nopca, raw_pca, fc6_pca]\n",
        "labels_set  = [metaData.sort_values(col).category_factored.values \n",
        "               for col in metaData.drop(columns=['category', 'category_factored']).columns]"
      ],
      "execution_count": 38,
      "outputs": []
    },
    {
      "cell_type": "code",
      "metadata": {
        "colab": {
          "base_uri": "https://localhost:8080/"
        },
        "id": "xZNK4rHb9zYb",
        "outputId": "133f4b73-c4fd-464b-8372-5c2bf4279a80"
      },
      "source": [
        "from sklearn.cluster import MiniBatchKMeans\n",
        "from sklearn.metrics.cluster import fowlkes_mallows_score\n",
        "\n",
        "model = MiniBatchKMeans().fit(feature_set[3])\n",
        "print(fowlkes_mallows_score(labels_set[3], model.labels_))"
      ],
      "execution_count": 39,
      "outputs": [
        {
          "output_type": "stream",
          "text": [
            "0.06746951461717285\n"
          ],
          "name": "stdout"
        }
      ]
    },
    {
      "cell_type": "code",
      "metadata": {
        "colab": {
          "base_uri": "https://localhost:8080/"
        },
        "id": "3SyXMaehAMFz",
        "outputId": "1b1b6302-4e4c-46dd-8c19-2d476c73ab4c"
      },
      "source": [
        "from collections import defaultdict \n",
        "\n",
        "d = defaultdict(lambda: 0)\n",
        "for i in [4, 8, 12, 16]: # num clusters\n",
        "  for j in [25, 50, 100, 150]: #batch size\n",
        "    model = MiniBatchKMeans(n_clusters=i, batch_size=j).fit(feature_set[3])\n",
        "    d[i, j] =  fowlkes_mallows_score(labels_set[3], model.labels_)\n",
        "    print(f'{j}, {i}: ', fowlkes_mallows_score(labels_set[3], model.labels_))"
      ],
      "execution_count": 40,
      "outputs": [
        {
          "output_type": "stream",
          "text": [
            "25, 4:  0.0984747353572256\n",
            "50, 4:  0.09028796252569847\n",
            "100, 4:  0.09116698196618508\n",
            "150, 4:  0.09859161615252017\n",
            "25, 8:  0.06589967623630692\n",
            "50, 8:  0.07251002845554731\n",
            "100, 8:  0.06281931428132764\n",
            "150, 8:  0.06453870643912338\n",
            "25, 12:  0.055981702446896854\n",
            "50, 12:  0.054784586697179366\n",
            "100, 12:  0.05429519604365672\n",
            "150, 12:  0.05455951773147577\n",
            "25, 16:  0.049489461556307714\n",
            "50, 16:  0.04904249608317489\n",
            "100, 16:  0.04710964902579796\n",
            "150, 16:  0.04938904090691092\n"
          ],
          "name": "stdout"
        }
      ]
    },
    {
      "cell_type": "code",
      "metadata": {
        "colab": {
          "base_uri": "https://localhost:8080/"
        },
        "id": "ul4DDX04aIEH",
        "outputId": "12b35fc9-71b2-4d5f-bb2d-f6d13c7acd99"
      },
      "source": [
        " # format of output is (num_clusters, batch size): fowlkes_mallows score\n",
        " # entries are sorted from largest to smallest\n",
        "sortedlist = sorted(d.items(), key=lambda x:x[1])\n",
        "sorteddict = dict(sortedlist)\n",
        "sorteddict"
      ],
      "execution_count": 41,
      "outputs": [
        {
          "output_type": "execute_result",
          "data": {
            "text/plain": [
              "{(4, 25): 0.0984747353572256,\n",
              " (4, 50): 0.09028796252569847,\n",
              " (4, 100): 0.09116698196618508,\n",
              " (4, 150): 0.09859161615252017,\n",
              " (8, 25): 0.06589967623630692,\n",
              " (8, 50): 0.07251002845554731,\n",
              " (8, 100): 0.06281931428132764,\n",
              " (8, 150): 0.06453870643912338,\n",
              " (12, 25): 0.055981702446896854,\n",
              " (12, 50): 0.054784586697179366,\n",
              " (12, 100): 0.05429519604365672,\n",
              " (12, 150): 0.05455951773147577,\n",
              " (16, 25): 0.049489461556307714,\n",
              " (16, 50): 0.04904249608317489,\n",
              " (16, 100): 0.04710964902579796,\n",
              " (16, 150): 0.04938904090691092}"
            ]
          },
          "metadata": {
            "tags": []
          },
          "execution_count": 41
        }
      ]
    },
    {
      "cell_type": "markdown",
      "metadata": {
        "id": "59oD0sSRBvBm"
      },
      "source": [
        "# Ignore below... old code"
      ]
    },
    {
      "cell_type": "code",
      "metadata": {
        "colab": {
          "base_uri": "https://localhost:8080/"
        },
        "id": "KWImZkb1dMqg",
        "outputId": "c1147aa7-c3ad-4191-f30d-5fc1d951d8fe"
      },
      "source": [
        "#iterate and create a labeled dataset \n",
        "labels = np.zeros(np.shape(raw_nopca)[0], dtype='<U20')\n",
        "print(\"Zero-filled labels\", np.shape(labels))\n",
        "# convert data to dataframe \n",
        "for ind in metaData.index: \n",
        "  index = metaData['raw_sketch_ind'][ind]\n",
        "  label = metaData['category'][ind]\n",
        "  labels[index] = label\n",
        "labels "
      ],
      "execution_count": 43,
      "outputs": [
        {
          "output_type": "stream",
          "text": [
            "Zero-filled labels (12288,)\n"
          ],
          "name": "stdout"
        },
        {
          "output_type": "execute_result",
          "data": {
            "text/plain": [
              "array(['windmill', 'axe', 'snake', ..., 'snake', 'butterfly', 'hotdog'],\n",
              "      dtype='<U20')"
            ]
          },
          "metadata": {
            "tags": []
          },
          "execution_count": 43
        }
      ]
    },
    {
      "cell_type": "code",
      "metadata": {
        "id": "8SCdVfTRPqhH",
        "colab": {
          "base_uri": "https://localhost:8080/"
        },
        "outputId": "26108243-e5cd-4080-f25d-40ac0221b983"
      },
      "source": [
        "# lets build our training and test set \n",
        "from sklearn.model_selection import train_test_split\n",
        "from sklearn.preprocessing import MinMaxScaler\n",
        "\n",
        "X_train, X_test, y_train, y_test = train_test_split(raw_nopca, labels)\n",
        "print(\"X-Train Shape:\", np.shape(X_train))\n",
        "print(\"X-Test Shape:\", np.shape(X_test))\n",
        "print(\"y-Train Shape:\", np.shape(y_train))\n",
        "print(\"y-Test Shape:\", np.shape(y_test))"
      ],
      "execution_count": 44,
      "outputs": [
        {
          "output_type": "stream",
          "text": [
            "X-Train Shape: (9216, 50176)\n",
            "X-Test Shape: (3072, 50176)\n",
            "y-Train Shape: (9216,)\n",
            "y-Test Shape: (3072,)\n"
          ],
          "name": "stdout"
        }
      ]
    },
    {
      "cell_type": "code",
      "metadata": {
        "colab": {
          "base_uri": "https://localhost:8080/",
          "height": 321
        },
        "id": "iwVaQ4rN-eEg",
        "outputId": "fe8714b6-4516-4206-cd45-8967f7923a58"
      },
      "source": [
        "sample = X_train[0, :]\n",
        "print(y_train[0])\n",
        "print(np.shape(sample))\n",
        "sample = sample.reshape((224, 224))\n",
        "plt.imshow(sample)"
      ],
      "execution_count": 45,
      "outputs": [
        {
          "output_type": "stream",
          "text": [
            "cup\n",
            "(50176,)\n"
          ],
          "name": "stdout"
        },
        {
          "output_type": "execute_result",
          "data": {
            "text/plain": [
              "<matplotlib.image.AxesImage at 0x7f5003a030d0>"
            ]
          },
          "metadata": {
            "tags": []
          },
          "execution_count": 45
        },
        {
          "output_type": "display_data",
          "data": {
            "image/png": "[encoded data removed]",
            "text/plain": [
              "<Figure size 432x288 with 1 Axes>"
            ]
          },
          "metadata": {
            "tags": [],
            "needs_background": "light"
          }
        }
      ]
    }
  ]
}