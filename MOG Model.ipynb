{
 "cells": [
  {
   "cell_type": "code",
   "execution_count": 1,
   "metadata": {},
   "outputs": [],
   "source": [
    "import pandas as pd\n",
    "import numpy as np\n",
    "import time\n",
    "from sklearn.mixture import GaussianMixture\n",
    "from sklearn.metrics.cluster import fowlkes_mallows_score\n",
    "from sklearn.preprocessing import LabelEncoder\n",
    "import matplotlib\n",
    "from matplotlib import pyplot as plt\n",
    "import pandas as pd\n",
    "import os\n",
    "%matplotlib inline"
   ]
  },
  {
   "cell_type": "code",
   "execution_count": 10,
   "metadata": {},
   "outputs": [],
   "source": [
    "raw_npca = np.load('data/sketches_raw_nopca.npy')\n",
    "fc6_npca = np.load('data/sketches_fc6_nopca.npy')\n",
    "raw_pca  = np.load('data/sketches_raw_pca.npy')\n",
    "fc6_pca  = np.load('data/sketches_fc6_pca.npy')\n",
    "metadata = pd.read_csv('data/sketches_metadata.csv')\n",
    "metadata['category_factored'] = LabelEncoder().fit_transform(metadata.category)\n",
    "\n",
    "feature_set = [raw_npca, fc6_npca, raw_pca, fc6_pca]\n",
    "feature_set = [feature_set[i].astype(np.float32) for i in range(4)]\n",
    "labels_set  = [metadata.sort_values(col).category_factored.values \n",
    "               for col in metadata.drop(columns=['category', 'category_factored']).columns]"
   ]
  },
  {
   "cell_type": "code",
   "execution_count": 3,
   "metadata": {
    "scrolled": false
   },
   "outputs": [
    {
     "name": "stdout",
     "output_type": "stream",
     "text": [
      "Trying covariance type full: score is 0.03288421058551639\n",
      "Trying covariance type tied: score is 0.033055217048237995\n",
      "Trying covariance type diag: score is 0.033819918817530936\n",
      "Trying covariance type spherical: score is 0.031305110442415726\n"
     ]
    }
   ],
   "source": [
    "for j in ['full', 'tied', 'diag','spherical']:\n",
    "        labels = GaussianMixture(n_components=32, random_state=0, covariance_type=j ).fit_predict(feature_set[1])\n",
    "        print(f'Trying covariance type {j}: score is {fowlkes_mallows_score(labels_set[1], labels)}')"
   ]
  },
  {
   "cell_type": "code",
   "execution_count": 12,
   "metadata": {},
   "outputs": [
    {
     "name": "stdout",
     "output_type": "stream",
     "text": [
      "Trying feature type raw_npca: score is 0.10294526687953204\n",
      "Trying feature type fc6_npca: score is 0.033819918817530936\n",
      "Trying feature type raw_pca: score is 0.06808289015642656\n",
      "Trying feature type fc6_pca: score is 0.049310200672924985\n"
     ]
    }
   ],
   "source": [
    "for feature, feature_type in zip(feature_set, ['raw_npca', 'fc6_npca', 'raw_pca', 'fc6_pca']):\n",
    "    labels = GaussianMixture(n_components=32, random_state=0, covariance_type='diag').fit_predict(feature)\n",
    "    print(f'Trying feature type {feature_type}: score is {fowlkes_mallows_score(labels_set[1], labels)}')"
   ]
  }
 ],
 "metadata": {
  "kernelspec": {
   "display_name": "Python 3",
   "language": "python",
   "name": "python3"
  },
  "language_info": {
   "codemirror_mode": {
    "name": "ipython",
    "version": 3
   },
   "file_extension": ".py",
   "mimetype": "text/x-python",
   "name": "python",
   "nbconvert_exporter": "python",
   "pygments_lexer": "ipython3",
   "version": "3.7.6"
  }
 },
 "nbformat": 4,
 "nbformat_minor": 4
}
