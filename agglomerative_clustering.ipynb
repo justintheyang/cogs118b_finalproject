{
 "cells": [
  {
   "cell_type": "markdown",
   "id": "latter-timer",
   "metadata": {},
   "source": [
    "# Final Project for Cogs 118B\n",
    "Group Members:\n",
    "- Samruddhi Hande ([email](shande@ucsd.edu))\n",
    "- Ron Hasson ([email](rhasson@ucsd.edu))\n",
    "- Andrew Hernandez ([email](ash053@ucsd.edu))\n",
    "- Mehail Mathew Sunny ([email](msmathew@ucsd.edu))\n",
    "- Justin Yang ([email](justin-yang@ucsd.edu))\n",
    "\n",
    "## Agglomerative clustering algorithm\n",
    "### Import packages and set up paths"
   ]
  },
  {
   "cell_type": "code",
   "execution_count": null,
   "id": "settled-phrase",
   "metadata": {},
   "outputs": [],
   "source": [
    "import os, re\n",
    "import pandas as pd\n",
    "import numpy as np\n",
    "import time\n",
    "from sklearn.cluster import AgglomerativeClustering\n",
    "from sklearn.metrics.cluster import fowlkes_mallows_score\n",
    "from sklearn.preprocessing import LabelEncoder"
   ]
  },
  {
   "cell_type": "code",
   "execution_count": null,
   "id": "everyday-drinking",
   "metadata": {},
   "outputs": [],
   "source": [
    "raw_npca = np.load('data/sketches_raw_nopca.npy')\n",
    "fc6_npca = np.load('data/sketches_fc6_nopca.npy')\n",
    "raw_pca  = np.load('data/sketches_raw_pca.npy')\n",
    "fc6_pca  = np.load('data/sketches_fc6_pca.npy')\n",
    "metadata = pd.read_csv('data/sketches_metadata.csv')\n",
    "metadata['category_factored'] = LabelEncoder().fit_transform(metadata.category)\n",
    "\n",
    "feature_set = [raw_npca, fc6_npca, raw_pca, fc6_pca]\n",
    "labels_set  = [metadata.sort_values(col).category_factored.values \n",
    "               for col in metadata.drop(columns=['category', 'category_factored']).columns]"
   ]
  },
  {
   "cell_type": "code",
   "execution_count": null,
   "id": "voluntary-height",
   "metadata": {},
   "outputs": [],
   "source": [
    "model = AgglomerativeClustering(n_clusters = 32, affinity = 'euclidean', linkage = 'ward').fit(feature_set[3])\n",
    "print(f'ward, euclidean: ', fowlkes_mallows_score(labels_set[3], model.labels_))\n",
    "\n",
    "for i in [\"euclidean\", \"manhattan\", \"cosine\"]:\n",
    "    for j in ['average', 'complete', 'single']:\n",
    "        model = AgglomerativeClustering(n_clusters = 32, affinity = i, linkage = j).fit(feature_set[3])\n",
    "        print(f'{j}, {i}: ', fowlkes_mallows_score(labels_set[3], model.labels_))    "
   ]
  },
  {
   "cell_type": "markdown",
   "id": "freelance-satisfaction",
   "metadata": {},
   "source": [
    "#### We will go with agglomerative clustering using cosine linkage metric and 'single' linkage criterion."
   ]
  },
  {
   "cell_type": "code",
   "execution_count": null,
   "id": "straight-narrow",
   "metadata": {
    "scrolled": true
   },
   "outputs": [],
   "source": [
    "cols = metadata.drop(columns=['category', 'category_factored']).columns.values\n",
    "FMI = dict()\n",
    "\n",
    "for i, feature in enumerate(cols):\n",
    "    model = AgglomerativeClustering(n_clusters = 32, affinity = 'cosine', linkage = 'single').fit(feature_set[i])\n",
    "    FMI[feature[:-4]] = fowlkes_mallows_score(labels_set[i], model.labels_)\n",
    "    print(f'On feature {feature[:-4]}, score: {FMI[feature[:-4]]}')"
   ]
  },
  {
   "cell_type": "code",
   "execution_count": null,
   "id": "confidential-piano",
   "metadata": {},
   "outputs": [],
   "source": [
    "fowlkes_mallows_score(labels_set['raw_sketch'], model.labels_)"
   ]
  }
 ],
 "metadata": {
  "kernelspec": {
   "display_name": "Python 3",
   "language": "python",
   "name": "python3"
  },
  "language_info": {
   "codemirror_mode": {
    "name": "ipython",
    "version": 3
   },
   "file_extension": ".py",
   "mimetype": "text/x-python",
   "name": "python",
   "nbconvert_exporter": "python",
   "pygments_lexer": "ipython3",
   "version": "3.7.7"
  }
 },
 "nbformat": 4,
 "nbformat_minor": 5
}
