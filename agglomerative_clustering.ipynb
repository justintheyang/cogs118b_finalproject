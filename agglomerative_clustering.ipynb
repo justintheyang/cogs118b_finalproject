{
 "cells": [
  {
   "cell_type": "markdown",
   "metadata": {},
   "source": [
    "# Final Project for Cogs 118B\n",
    "Group Members:\n",
    "- Samruddhi Hande ([email](shande@ucsd.edu))\n",
    "- Ron Hasson ([email](rhasson@ucsd.edu))\n",
    "- Andrew Hernandez ([email](ash053@ucsd.edu))\n",
    "- Mehail Mathew Sunny ([email](msmathew@ucsd.edu))\n",
    "- Justin Yang ([email](justin-yang@ucsd.edu))\n",
    "\n",
    "## Agglomerative clustering algorithm\n",
    "### Import packages and set up paths"
   ]
  },
  {
   "cell_type": "code",
   "execution_count": 3,
   "metadata": {},
   "outputs": [],
   "source": [
    "import os, re\n",
    "import pandas as pd\n",
    "import numpy as np\n",
    "import time\n",
    "from sklearn.cluster import AgglomerativeClustering\n",
    "from sklearn.metrics.cluster import fowlkes_mallows_score\n",
    "from sklearn.preprocessing import LabelEncoder"
   ]
  },
  {
   "cell_type": "code",
   "execution_count": 2,
   "metadata": {},
   "outputs": [],
   "source": [
    "raw_npca = np.load('data/sketches_raw_nopca.npy')\n",
    "fc6_npca = np.load('data/sketches_fc6_nopca.npy')\n",
    "raw_pca  = np.load('data/sketches_raw_pca.npy')\n",
    "fc6_pca  = np.load('data/sketches_fc6_pca.npy')\n",
    "metadata = pd.read_csv('data/sketches_metadata.csv')\n",
    "metadata['category_factored'] = LabelEncoder().fit_transform(metadata.category)\n",
    "\n",
    "feature_set = [raw_npca, fc6_npca, raw_pca, fc6_pca]\n",
    "labels_set  = [metadata.sort_values(col).category_factored.values \n",
    "               for col in metadata.drop(columns=['category', 'category_factored']).columns]"
   ]
  },
  {
   "cell_type": "code",
   "execution_count": 3,
   "metadata": {},
   "outputs": [
    {
     "name": "stdout",
     "output_type": "stream",
     "text": [
      "ward, euclidean:  0.03503550363755152\n",
      "average, euclidean:  0.16489320276689445\n",
      "complete, euclidean:  0.07227648862616926\n",
      "single, euclidean:  0.17470919825995143\n",
      "average, manhattan:  0.17208166982023657\n",
      "complete, manhattan:  0.10216043856182717\n",
      "single, manhattan:  0.17470942572199524\n",
      "average, cosine:  0.0667571968023508\n",
      "complete, cosine:  0.03676196649312498\n",
      "single, cosine:  0.1747532463583583\n"
     ]
    }
   ],
   "source": [
    "model = AgglomerativeClustering(n_clusters = 32, affinity = 'euclidean', linkage = 'ward').fit(feature_set[3])\n",
    "print(f'ward, euclidean: ', fowlkes_mallows_score(labels_set[3], model.labels_))\n",
    "\n",
    "for i in [\"euclidean\", \"manhattan\", \"cosine\"]:\n",
    "    for j in ['average', 'complete', 'single']:\n",
    "        model = AgglomerativeClustering(n_clusters = 32, affinity = i, linkage = j).fit(feature_set[3])\n",
    "        print(f'{j}, {i}: ', fowlkes_mallows_score(labels_set[3], model.labels_))"
   ]
  },
  {
   "cell_type": "markdown",
   "metadata": {},
   "source": [
    "#### We will go with agglomerative clustering using cosine linkage metric and 'single' linkage criterion."
   ]
  },
  {
   "cell_type": "code",
   "execution_count": 4,
   "metadata": {
    "scrolled": true
   },
   "outputs": [
    {
     "name": "stdout",
     "output_type": "stream",
     "text": [
      "On feature raw_sketch, score: 0.17470313260544948\n",
      "On feature fc6_sketch, score: 0.17470904661858888\n",
      "On feature raw_sketch_pca, score: 0.17470988046686492\n",
      "On feature fc6_sketch_pca, score: 0.1747532463583583\n"
     ]
    }
   ],
   "source": [
    "cols = metadata.drop(columns=['category', 'category_factored']).columns.values\n",
    "FMI = dict()\n",
    "\n",
    "for i, feature in enumerate(cols):\n",
    "    model = AgglomerativeClustering(n_clusters = 32, affinity = 'cosine', linkage = 'single').fit(feature_set[i])\n",
    "    FMI[feature[:-4]] = fowlkes_mallows_score(labels_set[i], model.labels_)\n",
    "    print(f'On feature {feature[:-4]}, score: {FMI[feature[:-4]]}')"
   ]
  },
  {
   "cell_type": "markdown",
   "metadata": {},
   "source": [
    "### What is the baseline for our algorithms?"
   ]
  },
  {
   "cell_type": "code",
   "execution_count": 6,
   "metadata": {
    "scrolled": true
   },
   "outputs": [
    {
     "name": "stdout",
     "output_type": "stream",
     "text": [
      "0.031252463463680116\n"
     ]
    },
    {
     "data": {
      "image/png": "[encoded data removed]",
      "text/plain": [
       "<Figure size 432x288 with 1 Axes>"
      ]
     },
     "metadata": {
      "needs_background": "light"
     },
     "output_type": "display_data"
    }
   ],
   "source": [
    "import random\n",
    "import seaborn as sns\n",
    "randscores = []\n",
    "for i in range(1000):\n",
    "    randa = [random.randint(1,32) for i in range(12288)]\n",
    "    randb = [random.randint(1,32) for i in range(12288)]\n",
    "    randscores.append(fowlkes_mallows_score(randa, randb))\n",
    "print(np.mean(randscores))\n",
    "sns.histplot(randscores);"
   ]
  },
  {
   "cell_type": "code",
   "execution_count": 7,
   "metadata": {
    "scrolled": true
   },
   "outputs": [
    {
     "name": "stdout",
     "output_type": "stream",
     "text": [
      "0.24998991257492167\n"
     ]
    },
    {
     "data": {
      "image/png": "[encoded data removed]",
      "text/plain": [
       "<Figure size 432x288 with 1 Axes>"
      ]
     },
     "metadata": {
      "needs_background": "light"
     },
     "output_type": "display_data"
    }
   ],
   "source": [
    "randscores = []\n",
    "for i in range(1000):\n",
    "    randa = [random.randint(1,4) for i in range(1536)]\n",
    "    randb = [random.randint(1,4) for i in range(1536)]\n",
    "    randscores.append(fowlkes_mallows_score(randa, randb))\n",
    "print(np.mean(randscores))\n",
    "sns.histplot(randscores);"
   ]
  }
 ],
 "metadata": {
  "kernelspec": {
   "display_name": "Python 3",
   "language": "python",
   "name": "python3"
  },
  "language_info": {
   "codemirror_mode": {
    "name": "ipython",
    "version": 3
   },
   "file_extension": ".py",
   "mimetype": "text/x-python",
   "name": "python",
   "nbconvert_exporter": "python",
   "pygments_lexer": "ipython3",
   "version": "3.7.6"
  }
 },
 "nbformat": 4,
 "nbformat_minor": 5
}
